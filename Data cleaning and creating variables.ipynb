{
 "cells": [
  {
   "cell_type": "code",
   "execution_count": 1,
   "metadata": {
    "ExecuteTime": {
     "end_time": "2021-02-05T23:18:37.215392Z",
     "start_time": "2021-02-05T23:18:33.986845Z"
    }
   },
   "outputs": [],
   "source": [
    "import pandas as pd\n",
    "import numpy as np"
   ]
  },
  {
   "cell_type": "markdown",
   "metadata": {},
   "source": [
    "### Read and Explore Data"
   ]
  },
  {
   "cell_type": "code",
   "execution_count": 2,
   "metadata": {
    "ExecuteTime": {
     "end_time": "2021-02-05T23:18:40.165760Z",
     "start_time": "2021-02-05T23:18:37.218047Z"
    }
   },
   "outputs": [],
   "source": [
    "df=pd.read_csv('NY property data.csv')"
   ]
  },
  {
   "cell_type": "code",
   "execution_count": 3,
   "metadata": {
    "ExecuteTime": {
     "end_time": "2021-02-05T23:18:40.565288Z",
     "start_time": "2021-02-05T23:18:40.168048Z"
    }
   },
   "outputs": [
    {
     "name": "stdout",
     "output_type": "stream",
     "text": [
      "<class 'pandas.core.frame.DataFrame'>\n",
      "RangeIndex: 1070994 entries, 0 to 1070993\n",
      "Data columns (total 32 columns):\n",
      " #   Column    Non-Null Count    Dtype  \n",
      "---  ------    --------------    -----  \n",
      " 0   RECORD    1070994 non-null  int64  \n",
      " 1   BBLE      1070994 non-null  object \n",
      " 2   B         1070994 non-null  int64  \n",
      " 3   BLOCK     1070994 non-null  int64  \n",
      " 4   LOT       1070994 non-null  int64  \n",
      " 5   EASEMENT  4636 non-null     object \n",
      " 6   OWNER     1039249 non-null  object \n",
      " 7   BLDGCL    1070994 non-null  object \n",
      " 8   TAXCLASS  1070994 non-null  object \n",
      " 9   LTFRONT   1070994 non-null  int64  \n",
      " 10  LTDEPTH   1070994 non-null  int64  \n",
      " 11  EXT       354305 non-null   object \n",
      " 12  STORIES   1014730 non-null  float64\n",
      " 13  FULLVAL   1070994 non-null  float64\n",
      " 14  AVLAND    1070994 non-null  float64\n",
      " 15  AVTOT     1070994 non-null  float64\n",
      " 16  EXLAND    1070994 non-null  float64\n",
      " 17  EXTOT     1070994 non-null  float64\n",
      " 18  EXCD1     638488 non-null   float64\n",
      " 19  STADDR    1070318 non-null  object \n",
      " 20  ZIP       1041104 non-null  float64\n",
      " 21  EXMPTCL   15579 non-null    object \n",
      " 22  BLDFRONT  1070994 non-null  int64  \n",
      " 23  BLDDEPTH  1070994 non-null  int64  \n",
      " 24  AVLAND2   282726 non-null   float64\n",
      " 25  AVTOT2    282732 non-null   float64\n",
      " 26  EXLAND2   87449 non-null    float64\n",
      " 27  EXTOT2    130828 non-null   float64\n",
      " 28  EXCD2     92948 non-null    float64\n",
      " 29  PERIOD    1070994 non-null  object \n",
      " 30  YEAR      1070994 non-null  object \n",
      " 31  VALTYPE   1070994 non-null  object \n",
      "dtypes: float64(13), int64(8), object(11)\n",
      "memory usage: 261.5+ MB\n"
     ]
    }
   ],
   "source": [
    "df.info()"
   ]
  },
  {
   "cell_type": "code",
   "execution_count": 4,
   "metadata": {
    "ExecuteTime": {
     "end_time": "2021-02-05T23:18:41.178702Z",
     "start_time": "2021-02-05T23:18:40.567209Z"
    }
   },
   "outputs": [
    {
     "data": {
      "text/html": [
       "<div>\n",
       "<style scoped>\n",
       "    .dataframe tbody tr th:only-of-type {\n",
       "        vertical-align: middle;\n",
       "    }\n",
       "\n",
       "    .dataframe tbody tr th {\n",
       "        vertical-align: top;\n",
       "    }\n",
       "\n",
       "    .dataframe thead th {\n",
       "        text-align: right;\n",
       "    }\n",
       "</style>\n",
       "<table border=\"1\" class=\"dataframe\">\n",
       "  <thead>\n",
       "    <tr style=\"text-align: right;\">\n",
       "      <th></th>\n",
       "      <th>RECORD</th>\n",
       "      <th>B</th>\n",
       "      <th>BLOCK</th>\n",
       "      <th>LOT</th>\n",
       "      <th>LTFRONT</th>\n",
       "      <th>LTDEPTH</th>\n",
       "      <th>STORIES</th>\n",
       "      <th>FULLVAL</th>\n",
       "      <th>AVLAND</th>\n",
       "      <th>AVTOT</th>\n",
       "      <th>...</th>\n",
       "      <th>EXTOT</th>\n",
       "      <th>EXCD1</th>\n",
       "      <th>ZIP</th>\n",
       "      <th>BLDFRONT</th>\n",
       "      <th>BLDDEPTH</th>\n",
       "      <th>AVLAND2</th>\n",
       "      <th>AVTOT2</th>\n",
       "      <th>EXLAND2</th>\n",
       "      <th>EXTOT2</th>\n",
       "      <th>EXCD2</th>\n",
       "    </tr>\n",
       "  </thead>\n",
       "  <tbody>\n",
       "    <tr>\n",
       "      <th>count</th>\n",
       "      <td>1.070994e+06</td>\n",
       "      <td>1.070994e+06</td>\n",
       "      <td>1.070994e+06</td>\n",
       "      <td>1.070994e+06</td>\n",
       "      <td>1.070994e+06</td>\n",
       "      <td>1.070994e+06</td>\n",
       "      <td>1.014730e+06</td>\n",
       "      <td>1.070994e+06</td>\n",
       "      <td>1.070994e+06</td>\n",
       "      <td>1.070994e+06</td>\n",
       "      <td>...</td>\n",
       "      <td>1.070994e+06</td>\n",
       "      <td>638488.000000</td>\n",
       "      <td>1.041104e+06</td>\n",
       "      <td>1.070994e+06</td>\n",
       "      <td>1.070994e+06</td>\n",
       "      <td>2.827260e+05</td>\n",
       "      <td>2.827320e+05</td>\n",
       "      <td>8.744900e+04</td>\n",
       "      <td>1.308280e+05</td>\n",
       "      <td>92948.000000</td>\n",
       "    </tr>\n",
       "    <tr>\n",
       "      <th>mean</th>\n",
       "      <td>5.354975e+05</td>\n",
       "      <td>3.215427e+00</td>\n",
       "      <td>4.757239e+03</td>\n",
       "      <td>3.647221e+02</td>\n",
       "      <td>3.663530e+01</td>\n",
       "      <td>8.886159e+01</td>\n",
       "      <td>5.006918e+00</td>\n",
       "      <td>8.742645e+05</td>\n",
       "      <td>8.506792e+04</td>\n",
       "      <td>2.272382e+05</td>\n",
       "      <td>...</td>\n",
       "      <td>9.118698e+04</td>\n",
       "      <td>1602.014232</td>\n",
       "      <td>1.092396e+04</td>\n",
       "      <td>2.304277e+01</td>\n",
       "      <td>3.992284e+01</td>\n",
       "      <td>2.462357e+05</td>\n",
       "      <td>7.139114e+05</td>\n",
       "      <td>3.512357e+05</td>\n",
       "      <td>6.567683e+05</td>\n",
       "      <td>1364.041679</td>\n",
       "    </tr>\n",
       "    <tr>\n",
       "      <th>std</th>\n",
       "      <td>3.091695e+05</td>\n",
       "      <td>1.201197e+00</td>\n",
       "      <td>3.676579e+03</td>\n",
       "      <td>8.532152e+02</td>\n",
       "      <td>7.403284e+01</td>\n",
       "      <td>7.639628e+01</td>\n",
       "      <td>8.365707e+00</td>\n",
       "      <td>1.158243e+07</td>\n",
       "      <td>4.057260e+06</td>\n",
       "      <td>6.877529e+06</td>\n",
       "      <td>...</td>\n",
       "      <td>6.508403e+06</td>\n",
       "      <td>1384.226741</td>\n",
       "      <td>5.284208e+02</td>\n",
       "      <td>3.557970e+01</td>\n",
       "      <td>4.270715e+01</td>\n",
       "      <td>6.178963e+06</td>\n",
       "      <td>1.165253e+07</td>\n",
       "      <td>1.080221e+07</td>\n",
       "      <td>1.607251e+07</td>\n",
       "      <td>1094.705653</td>\n",
       "    </tr>\n",
       "    <tr>\n",
       "      <th>min</th>\n",
       "      <td>1.000000e+00</td>\n",
       "      <td>1.000000e+00</td>\n",
       "      <td>1.000000e+00</td>\n",
       "      <td>1.000000e+00</td>\n",
       "      <td>0.000000e+00</td>\n",
       "      <td>0.000000e+00</td>\n",
       "      <td>1.000000e+00</td>\n",
       "      <td>0.000000e+00</td>\n",
       "      <td>0.000000e+00</td>\n",
       "      <td>0.000000e+00</td>\n",
       "      <td>...</td>\n",
       "      <td>0.000000e+00</td>\n",
       "      <td>1010.000000</td>\n",
       "      <td>1.000100e+04</td>\n",
       "      <td>0.000000e+00</td>\n",
       "      <td>0.000000e+00</td>\n",
       "      <td>3.000000e+00</td>\n",
       "      <td>3.000000e+00</td>\n",
       "      <td>1.000000e+00</td>\n",
       "      <td>7.000000e+00</td>\n",
       "      <td>1011.000000</td>\n",
       "    </tr>\n",
       "    <tr>\n",
       "      <th>25%</th>\n",
       "      <td>2.677492e+05</td>\n",
       "      <td>3.000000e+00</td>\n",
       "      <td>1.555000e+03</td>\n",
       "      <td>2.300000e+01</td>\n",
       "      <td>1.900000e+01</td>\n",
       "      <td>8.000000e+01</td>\n",
       "      <td>2.000000e+00</td>\n",
       "      <td>3.040000e+05</td>\n",
       "      <td>9.180000e+03</td>\n",
       "      <td>1.837400e+04</td>\n",
       "      <td>...</td>\n",
       "      <td>0.000000e+00</td>\n",
       "      <td>1017.000000</td>\n",
       "      <td>1.031400e+04</td>\n",
       "      <td>1.500000e+01</td>\n",
       "      <td>2.600000e+01</td>\n",
       "      <td>5.705000e+03</td>\n",
       "      <td>3.391200e+04</td>\n",
       "      <td>2.090000e+03</td>\n",
       "      <td>2.870000e+03</td>\n",
       "      <td>1017.000000</td>\n",
       "    </tr>\n",
       "    <tr>\n",
       "      <th>50%</th>\n",
       "      <td>5.354975e+05</td>\n",
       "      <td>3.000000e+00</td>\n",
       "      <td>4.047000e+03</td>\n",
       "      <td>4.900000e+01</td>\n",
       "      <td>2.500000e+01</td>\n",
       "      <td>1.000000e+02</td>\n",
       "      <td>2.000000e+00</td>\n",
       "      <td>4.470000e+05</td>\n",
       "      <td>1.367800e+04</td>\n",
       "      <td>2.534000e+04</td>\n",
       "      <td>...</td>\n",
       "      <td>1.620000e+03</td>\n",
       "      <td>1017.000000</td>\n",
       "      <td>1.121400e+04</td>\n",
       "      <td>2.000000e+01</td>\n",
       "      <td>3.900000e+01</td>\n",
       "      <td>2.014500e+04</td>\n",
       "      <td>7.996250e+04</td>\n",
       "      <td>3.048000e+03</td>\n",
       "      <td>3.706200e+04</td>\n",
       "      <td>1017.000000</td>\n",
       "    </tr>\n",
       "    <tr>\n",
       "      <th>75%</th>\n",
       "      <td>8.032458e+05</td>\n",
       "      <td>4.000000e+00</td>\n",
       "      <td>6.898000e+03</td>\n",
       "      <td>1.430000e+02</td>\n",
       "      <td>4.000000e+01</td>\n",
       "      <td>1.000000e+02</td>\n",
       "      <td>3.000000e+00</td>\n",
       "      <td>6.190000e+05</td>\n",
       "      <td>1.974000e+04</td>\n",
       "      <td>4.543800e+04</td>\n",
       "      <td>...</td>\n",
       "      <td>2.090000e+03</td>\n",
       "      <td>1017.000000</td>\n",
       "      <td>1.136400e+04</td>\n",
       "      <td>2.400000e+01</td>\n",
       "      <td>5.000000e+01</td>\n",
       "      <td>6.264000e+04</td>\n",
       "      <td>2.405510e+05</td>\n",
       "      <td>3.177900e+04</td>\n",
       "      <td>1.068408e+05</td>\n",
       "      <td>1017.000000</td>\n",
       "    </tr>\n",
       "    <tr>\n",
       "      <th>max</th>\n",
       "      <td>1.070994e+06</td>\n",
       "      <td>5.000000e+00</td>\n",
       "      <td>1.635000e+04</td>\n",
       "      <td>9.978000e+03</td>\n",
       "      <td>9.999000e+03</td>\n",
       "      <td>9.999000e+03</td>\n",
       "      <td>1.190000e+02</td>\n",
       "      <td>6.150000e+09</td>\n",
       "      <td>2.668500e+09</td>\n",
       "      <td>4.668309e+09</td>\n",
       "      <td>...</td>\n",
       "      <td>4.668309e+09</td>\n",
       "      <td>7170.000000</td>\n",
       "      <td>3.380300e+04</td>\n",
       "      <td>7.575000e+03</td>\n",
       "      <td>9.393000e+03</td>\n",
       "      <td>2.371005e+09</td>\n",
       "      <td>4.501180e+09</td>\n",
       "      <td>2.371005e+09</td>\n",
       "      <td>4.501180e+09</td>\n",
       "      <td>7160.000000</td>\n",
       "    </tr>\n",
       "  </tbody>\n",
       "</table>\n",
       "<p>8 rows × 21 columns</p>\n",
       "</div>"
      ],
      "text/plain": [
       "             RECORD             B         BLOCK           LOT       LTFRONT  \\\n",
       "count  1.070994e+06  1.070994e+06  1.070994e+06  1.070994e+06  1.070994e+06   \n",
       "mean   5.354975e+05  3.215427e+00  4.757239e+03  3.647221e+02  3.663530e+01   \n",
       "std    3.091695e+05  1.201197e+00  3.676579e+03  8.532152e+02  7.403284e+01   \n",
       "min    1.000000e+00  1.000000e+00  1.000000e+00  1.000000e+00  0.000000e+00   \n",
       "25%    2.677492e+05  3.000000e+00  1.555000e+03  2.300000e+01  1.900000e+01   \n",
       "50%    5.354975e+05  3.000000e+00  4.047000e+03  4.900000e+01  2.500000e+01   \n",
       "75%    8.032458e+05  4.000000e+00  6.898000e+03  1.430000e+02  4.000000e+01   \n",
       "max    1.070994e+06  5.000000e+00  1.635000e+04  9.978000e+03  9.999000e+03   \n",
       "\n",
       "            LTDEPTH       STORIES       FULLVAL        AVLAND         AVTOT  \\\n",
       "count  1.070994e+06  1.014730e+06  1.070994e+06  1.070994e+06  1.070994e+06   \n",
       "mean   8.886159e+01  5.006918e+00  8.742645e+05  8.506792e+04  2.272382e+05   \n",
       "std    7.639628e+01  8.365707e+00  1.158243e+07  4.057260e+06  6.877529e+06   \n",
       "min    0.000000e+00  1.000000e+00  0.000000e+00  0.000000e+00  0.000000e+00   \n",
       "25%    8.000000e+01  2.000000e+00  3.040000e+05  9.180000e+03  1.837400e+04   \n",
       "50%    1.000000e+02  2.000000e+00  4.470000e+05  1.367800e+04  2.534000e+04   \n",
       "75%    1.000000e+02  3.000000e+00  6.190000e+05  1.974000e+04  4.543800e+04   \n",
       "max    9.999000e+03  1.190000e+02  6.150000e+09  2.668500e+09  4.668309e+09   \n",
       "\n",
       "       ...         EXTOT          EXCD1           ZIP      BLDFRONT  \\\n",
       "count  ...  1.070994e+06  638488.000000  1.041104e+06  1.070994e+06   \n",
       "mean   ...  9.118698e+04    1602.014232  1.092396e+04  2.304277e+01   \n",
       "std    ...  6.508403e+06    1384.226741  5.284208e+02  3.557970e+01   \n",
       "min    ...  0.000000e+00    1010.000000  1.000100e+04  0.000000e+00   \n",
       "25%    ...  0.000000e+00    1017.000000  1.031400e+04  1.500000e+01   \n",
       "50%    ...  1.620000e+03    1017.000000  1.121400e+04  2.000000e+01   \n",
       "75%    ...  2.090000e+03    1017.000000  1.136400e+04  2.400000e+01   \n",
       "max    ...  4.668309e+09    7170.000000  3.380300e+04  7.575000e+03   \n",
       "\n",
       "           BLDDEPTH       AVLAND2        AVTOT2       EXLAND2        EXTOT2  \\\n",
       "count  1.070994e+06  2.827260e+05  2.827320e+05  8.744900e+04  1.308280e+05   \n",
       "mean   3.992284e+01  2.462357e+05  7.139114e+05  3.512357e+05  6.567683e+05   \n",
       "std    4.270715e+01  6.178963e+06  1.165253e+07  1.080221e+07  1.607251e+07   \n",
       "min    0.000000e+00  3.000000e+00  3.000000e+00  1.000000e+00  7.000000e+00   \n",
       "25%    2.600000e+01  5.705000e+03  3.391200e+04  2.090000e+03  2.870000e+03   \n",
       "50%    3.900000e+01  2.014500e+04  7.996250e+04  3.048000e+03  3.706200e+04   \n",
       "75%    5.000000e+01  6.264000e+04  2.405510e+05  3.177900e+04  1.068408e+05   \n",
       "max    9.393000e+03  2.371005e+09  4.501180e+09  2.371005e+09  4.501180e+09   \n",
       "\n",
       "              EXCD2  \n",
       "count  92948.000000  \n",
       "mean    1364.041679  \n",
       "std     1094.705653  \n",
       "min     1011.000000  \n",
       "25%     1017.000000  \n",
       "50%     1017.000000  \n",
       "75%     1017.000000  \n",
       "max     7160.000000  \n",
       "\n",
       "[8 rows x 21 columns]"
      ]
     },
     "execution_count": 4,
     "metadata": {},
     "output_type": "execute_result"
    }
   ],
   "source": [
    "stats=df.describe()\n",
    "stats"
   ]
  },
  {
   "cell_type": "code",
   "execution_count": 5,
   "metadata": {
    "ExecuteTime": {
     "end_time": "2021-02-05T23:18:41.183854Z",
     "start_time": "2021-02-05T23:18:41.180356Z"
    }
   },
   "outputs": [
    {
     "data": {
      "text/plain": [
       "Index(['RECORD', 'BBLE', 'B', 'BLOCK', 'LOT', 'EASEMENT', 'OWNER', 'BLDGCL',\n",
       "       'TAXCLASS', 'LTFRONT', 'LTDEPTH', 'EXT', 'STORIES', 'FULLVAL', 'AVLAND',\n",
       "       'AVTOT', 'EXLAND', 'EXTOT', 'EXCD1', 'STADDR', 'ZIP', 'EXMPTCL',\n",
       "       'BLDFRONT', 'BLDDEPTH', 'AVLAND2', 'AVTOT2', 'EXLAND2', 'EXTOT2',\n",
       "       'EXCD2', 'PERIOD', 'YEAR', 'VALTYPE'],\n",
       "      dtype='object')"
      ]
     },
     "execution_count": 5,
     "metadata": {},
     "output_type": "execute_result"
    }
   ],
   "source": [
    "df.columns"
   ]
  },
  {
   "cell_type": "code",
   "execution_count": 6,
   "metadata": {
    "ExecuteTime": {
     "end_time": "2021-02-05T23:18:41.223287Z",
     "start_time": "2021-02-05T23:18:41.185353Z"
    }
   },
   "outputs": [],
   "source": [
    "data=df[['RECORD','FULLVAL', 'AVLAND', 'AVTOT', 'ZIP', 'STORIES', \n",
    "          'LTFRONT', 'LTDEPTH', 'BLDFRONT', 'BLDDEPTH','TAXCLASS','B']]"
   ]
  },
  {
   "cell_type": "markdown",
   "metadata": {},
   "source": [
    "### Filling In Missing ZIP"
   ]
  },
  {
   "cell_type": "code",
   "execution_count": 7,
   "metadata": {
    "ExecuteTime": {
     "end_time": "2021-02-05T23:18:41.231955Z",
     "start_time": "2021-02-05T23:18:41.226658Z"
    }
   },
   "outputs": [
    {
     "data": {
      "text/plain": [
       "29890"
      ]
     },
     "execution_count": 7,
     "metadata": {},
     "output_type": "execute_result"
    }
   ],
   "source": [
    "missing_zip=np.where(pd.isnull(data['ZIP']))[0]\n",
    "len(missing_zip)"
   ]
  },
  {
   "cell_type": "code",
   "execution_count": 8,
   "metadata": {
    "ExecuteTime": {
     "end_time": "2021-02-05T23:19:38.588169Z",
     "start_time": "2021-02-05T23:18:41.234640Z"
    }
   },
   "outputs": [
    {
     "name": "stderr",
     "output_type": "stream",
     "text": [
      "/Users/eva/opt/anaconda3/lib/python3.8/site-packages/pandas/core/indexing.py:966: SettingWithCopyWarning: \n",
      "A value is trying to be set on a copy of a slice from a DataFrame.\n",
      "Try using .loc[row_indexer,col_indexer] = value instead\n",
      "\n",
      "See the caveats in the documentation: https://pandas.pydata.org/pandas-docs/stable/user_guide/indexing.html#returning-a-view-versus-a-copy\n",
      "  self.obj[item] = s\n"
     ]
    }
   ],
   "source": [
    "for i in list(missing_zip):\n",
    "    if data.loc[i-1,'ZIP']==data.loc[i+1,'ZIP']:\n",
    "        data.loc[i,'ZIP']=data.loc[i-1,'ZIP']"
   ]
  },
  {
   "cell_type": "code",
   "execution_count": 9,
   "metadata": {
    "ExecuteTime": {
     "end_time": "2021-02-05T23:19:38.595073Z",
     "start_time": "2021-02-05T23:19:38.589910Z"
    }
   },
   "outputs": [
    {
     "data": {
      "text/plain": [
       "16437"
      ]
     },
     "execution_count": 9,
     "metadata": {},
     "output_type": "execute_result"
    }
   ],
   "source": [
    "missing_zip=np.where(pd.isnull(data['ZIP']))[0]\n",
    "len(missing_zip)"
   ]
  },
  {
   "cell_type": "code",
   "execution_count": 10,
   "metadata": {
    "ExecuteTime": {
     "end_time": "2021-02-05T23:20:40.769055Z",
     "start_time": "2021-02-05T23:19:38.596688Z"
    },
    "scrolled": true
   },
   "outputs": [],
   "source": [
    "for i in list(missing_zip):\n",
    "    data.loc[i,'ZIP']=data.loc[i-1,'ZIP']"
   ]
  },
  {
   "cell_type": "code",
   "execution_count": 11,
   "metadata": {
    "ExecuteTime": {
     "end_time": "2021-02-05T23:20:40.775463Z",
     "start_time": "2021-02-05T23:20:40.770958Z"
    }
   },
   "outputs": [
    {
     "data": {
      "text/plain": [
       "0"
      ]
     },
     "execution_count": 11,
     "metadata": {},
     "output_type": "execute_result"
    }
   ],
   "source": [
    "missing_zip=np.where(pd.isnull(data['ZIP']))[0]\n",
    "len(missing_zip)"
   ]
  },
  {
   "cell_type": "markdown",
   "metadata": {},
   "source": [
    "### Filling In Missing STORIES"
   ]
  },
  {
   "cell_type": "code",
   "execution_count": 12,
   "metadata": {
    "ExecuteTime": {
     "end_time": "2021-02-05T23:20:40.782447Z",
     "start_time": "2021-02-05T23:20:40.777149Z"
    }
   },
   "outputs": [
    {
     "data": {
      "text/plain": [
       "56264"
      ]
     },
     "execution_count": 12,
     "metadata": {},
     "output_type": "execute_result"
    }
   ],
   "source": [
    "missing_zip=np.where(pd.isnull(data['STORIES']))[0]\n",
    "len(missing_zip)"
   ]
  },
  {
   "cell_type": "code",
   "execution_count": 13,
   "metadata": {
    "ExecuteTime": {
     "end_time": "2021-02-05T23:20:40.828631Z",
     "start_time": "2021-02-05T23:20:40.784025Z"
    }
   },
   "outputs": [
    {
     "data": {
      "text/plain": [
       "TAXCLASS\n",
       "1      2.111641\n",
       "1A     1.656837\n",
       "1B     4.000000\n",
       "1C     3.052748\n",
       "1D     1.068966\n",
       "2     16.095110\n",
       "2A     2.844574\n",
       "2B     4.004494\n",
       "2C     4.745097\n",
       "3      1.333333\n",
       "4      5.446968\n",
       "Name: STORIES, dtype: float64"
      ]
     },
     "execution_count": 13,
     "metadata": {},
     "output_type": "execute_result"
    }
   ],
   "source": [
    "mean_stories=df.groupby(['TAXCLASS'])['STORIES'].mean()\n",
    "mean_stories"
   ]
  },
  {
   "cell_type": "code",
   "execution_count": 14,
   "metadata": {
    "ExecuteTime": {
     "end_time": "2021-02-05T23:20:41.430941Z",
     "start_time": "2021-02-05T23:20:40.830284Z"
    }
   },
   "outputs": [
    {
     "name": "stderr",
     "output_type": "stream",
     "text": [
      "<ipython-input-14-1a9ed89364c4>:1: SettingWithCopyWarning: \n",
      "A value is trying to be set on a copy of a slice from a DataFrame.\n",
      "Try using .loc[row_indexer,col_indexer] = value instead\n",
      "\n",
      "See the caveats in the documentation: https://pandas.pydata.org/pandas-docs/stable/user_guide/indexing.html#returning-a-view-versus-a-copy\n",
      "  data['STORIES']=data['STORIES'].fillna(value=0)\n"
     ]
    }
   ],
   "source": [
    "data['STORIES']=data['STORIES'].fillna(value=0)\n",
    "for i in mean_stories.index:\n",
    "    data.loc[(data['STORIES']==0)&(data['TAXCLASS']==i),'STORIES']=mean_stories[i]"
   ]
  },
  {
   "cell_type": "code",
   "execution_count": 15,
   "metadata": {
    "ExecuteTime": {
     "end_time": "2021-02-05T23:20:41.437555Z",
     "start_time": "2021-02-05T23:20:41.432656Z"
    }
   },
   "outputs": [
    {
     "data": {
      "text/plain": [
       "0"
      ]
     },
     "execution_count": 15,
     "metadata": {},
     "output_type": "execute_result"
    }
   ],
   "source": [
    "len(data.loc[(data['STORIES']==0)])"
   ]
  },
  {
   "cell_type": "markdown",
   "metadata": {},
   "source": [
    "### Filling In Missing FULLVAL, AVLAND, AVTOT"
   ]
  },
  {
   "cell_type": "code",
   "execution_count": 16,
   "metadata": {
    "ExecuteTime": {
     "end_time": "2021-02-05T23:20:41.549992Z",
     "start_time": "2021-02-05T23:20:41.439064Z"
    }
   },
   "outputs": [
    {
     "data": {
      "text/plain": [
       "TAXCLASS\n",
       "1     5.698435e+05\n",
       "1A    3.352842e+05\n",
       "1B    5.613639e+05\n",
       "1C    7.615359e+05\n",
       "1D    2.233614e+07\n",
       "2     7.998018e+05\n",
       "2A    8.640037e+05\n",
       "2B    1.252989e+06\n",
       "2C    7.728799e+05\n",
       "3     1.112765e+05\n",
       "4     3.211928e+06\n",
       "Name: FULLVAL, dtype: float64"
      ]
     },
     "execution_count": 16,
     "metadata": {},
     "output_type": "execute_result"
    }
   ],
   "source": [
    "data['FULLVAL'].replace('NaN',0)\n",
    "temp=data[data['FULLVAL']!=0]\n",
    "mean_fullval=temp.groupby('TAXCLASS')['FULLVAL'].mean()\n",
    "mean_fullval"
   ]
  },
  {
   "cell_type": "code",
   "execution_count": 17,
   "metadata": {
    "ExecuteTime": {
     "end_time": "2021-02-05T23:20:41.665698Z",
     "start_time": "2021-02-05T23:20:41.551505Z"
    }
   },
   "outputs": [
    {
     "data": {
      "text/plain": [
       "TAXCLASS\n",
       "1      14896.433976\n",
       "1A      2247.369138\n",
       "1B     14781.268478\n",
       "1C      8225.658898\n",
       "1D    709303.793103\n",
       "2      90830.095031\n",
       "2A     31363.390619\n",
       "2B     54446.810503\n",
       "2C     25639.066531\n",
       "3      43368.352941\n",
       "4     600949.433397\n",
       "Name: AVLAND, dtype: float64"
      ]
     },
     "execution_count": 17,
     "metadata": {},
     "output_type": "execute_result"
    }
   ],
   "source": [
    "data['AVLAND'].replace('NaN',0)\n",
    "temp=data[data['AVLAND']!=0]\n",
    "mean_avland=temp.groupby('TAXCLASS')['AVLAND'].mean()\n",
    "mean_avland"
   ]
  },
  {
   "cell_type": "code",
   "execution_count": 18,
   "metadata": {
    "ExecuteTime": {
     "end_time": "2021-02-05T23:20:41.754977Z",
     "start_time": "2021-02-05T23:20:41.667871Z"
    }
   },
   "outputs": [
    {
     "data": {
      "text/plain": [
       "TAXCLASS\n",
       "1     2.501609e+04\n",
       "1A    1.436972e+04\n",
       "1B    1.478410e+04\n",
       "1C    2.898447e+04\n",
       "1D    1.166866e+06\n",
       "2     3.599121e+05\n",
       "2A    7.961158e+04\n",
       "2B    1.785982e+05\n",
       "2C    1.170444e+05\n",
       "3     5.007444e+04\n",
       "4     1.488705e+06\n",
       "Name: AVTOT, dtype: float64"
      ]
     },
     "execution_count": 18,
     "metadata": {},
     "output_type": "execute_result"
    }
   ],
   "source": [
    "data['AVTOT'].replace('NaN',0)\n",
    "temp=data[data['AVTOT']!=0]\n",
    "mean_avtot=temp.groupby('TAXCLASS')['AVTOT'].mean()\n",
    "mean_avtot"
   ]
  },
  {
   "cell_type": "code",
   "execution_count": 19,
   "metadata": {
    "ExecuteTime": {
     "end_time": "2021-02-05T23:20:43.432841Z",
     "start_time": "2021-02-05T23:20:41.756949Z"
    }
   },
   "outputs": [],
   "source": [
    "for i in mean_fullval.index:\n",
    "    data.loc[(data['FULLVAL']==0)&(data['TAXCLASS']==i),'FULLVAL']=mean_fullval[i]\n",
    "    data.loc[(data['AVLAND']==0)&(data['TAXCLASS']==i),'AVLAND']=mean_avland[i]\n",
    "    data.loc[(data['AVTOT']==0)&(data['TAXCLASS']==i),'AVTOT']=mean_avtot[i]\n",
    "    \n",
    "        \n",
    "        "
   ]
  },
  {
   "cell_type": "markdown",
   "metadata": {},
   "source": [
    "### Filling In Missing Lot and Building Sizes"
   ]
  },
  {
   "cell_type": "code",
   "execution_count": 20,
   "metadata": {
    "ExecuteTime": {
     "end_time": "2021-02-05T23:20:43.641632Z",
     "start_time": "2021-02-05T23:20:43.434422Z"
    }
   },
   "outputs": [],
   "source": [
    "data.loc[data['LTFRONT']==0,'LTFRONT']=np.nan\n",
    "data.loc[data['LTDEPTH']==0,'LTDEPTH']=np.nan\n",
    "data.loc[data['BLDFRONT']==0,'BLDFRONT']=np.nan\n",
    "data.loc[data['BLDDEPTH']==0,'BLDDEPTH']=np.nan\n"
   ]
  },
  {
   "cell_type": "code",
   "execution_count": 21,
   "metadata": {
    "ExecuteTime": {
     "end_time": "2021-02-05T23:20:43.879883Z",
     "start_time": "2021-02-05T23:20:43.643748Z"
    }
   },
   "outputs": [],
   "source": [
    "mean_LTFRONT=data.groupby(data['TAXCLASS'])['LTFRONT'].mean()\n",
    "mean_LTDEPTH=data.groupby(data['TAXCLASS'])['LTDEPTH'].mean()\n",
    "mean_BLDFRONT=data.groupby(data['TAXCLASS'])['BLDFRONT'].mean()\n",
    "mean_BLDDEPTH=data.groupby(data['TAXCLASS'])['BLDDEPTH'].mean()\n"
   ]
  },
  {
   "cell_type": "code",
   "execution_count": 22,
   "metadata": {
    "ExecuteTime": {
     "end_time": "2021-02-05T23:20:46.151582Z",
     "start_time": "2021-02-05T23:20:43.886287Z"
    }
   },
   "outputs": [],
   "source": [
    "for i in mean_LTFRONT.index:\n",
    "    data.loc[(data['LTFRONT'].isnull())&(data['TAXCLASS']==i),'LTFRONT']=mean_LTFRONT[i]    \n",
    "    data.loc[(data['LTDEPTH'].isnull())&(data['TAXCLASS']==i),'LTDEPTH']=mean_LTDEPTH[i]\n",
    "    data.loc[(data['BLDFRONT'].isnull())&(data['TAXCLASS']==i),'BLDFRONT']=mean_BLDFRONT[i]\n",
    "    data.loc[(data['BLDDEPTH'].isnull())&(data['TAXCLASS']==i),'BLDDEPTH']=mean_BLDDEPTH[i]\n"
   ]
  },
  {
   "cell_type": "markdown",
   "metadata": {},
   "source": [
    "### Making NY Variables"
   ]
  },
  {
   "cell_type": "code",
   "execution_count": 23,
   "metadata": {
    "ExecuteTime": {
     "end_time": "2021-02-05T23:20:46.867379Z",
     "start_time": "2021-02-05T23:20:46.155173Z"
    }
   },
   "outputs": [
    {
     "name": "stderr",
     "output_type": "stream",
     "text": [
      "<ipython-input-23-c28c58b87427>:1: SettingWithCopyWarning: \n",
      "A value is trying to be set on a copy of a slice from a DataFrame.\n",
      "Try using .loc[row_indexer,col_indexer] = value instead\n",
      "\n",
      "See the caveats in the documentation: https://pandas.pydata.org/pandas-docs/stable/user_guide/indexing.html#returning-a-view-versus-a-copy\n",
      "  data['ZIP']=data['ZIP'].astype(str)\n",
      "<ipython-input-23-c28c58b87427>:2: SettingWithCopyWarning: \n",
      "A value is trying to be set on a copy of a slice from a DataFrame.\n",
      "Try using .loc[row_indexer,col_indexer] = value instead\n",
      "\n",
      "See the caveats in the documentation: https://pandas.pydata.org/pandas-docs/stable/user_guide/indexing.html#returning-a-view-versus-a-copy\n",
      "  data['zip3']=data['ZIP'].str[:3]\n"
     ]
    }
   ],
   "source": [
    "data['ZIP']=data['ZIP'].astype(str)\n",
    "data['zip3']=data['ZIP'].str[:3]"
   ]
  },
  {
   "cell_type": "code",
   "execution_count": 24,
   "metadata": {
    "ExecuteTime": {
     "end_time": "2021-02-05T23:20:46.904702Z",
     "start_time": "2021-02-05T23:20:46.868743Z"
    }
   },
   "outputs": [
    {
     "name": "stderr",
     "output_type": "stream",
     "text": [
      "<ipython-input-24-a0ab8ed0b8fa>:1: SettingWithCopyWarning: \n",
      "A value is trying to be set on a copy of a slice from a DataFrame.\n",
      "Try using .loc[row_indexer,col_indexer] = value instead\n",
      "\n",
      "See the caveats in the documentation: https://pandas.pydata.org/pandas-docs/stable/user_guide/indexing.html#returning-a-view-versus-a-copy\n",
      "  data['lotarea']=data['LTFRONT'] * data['LTDEPTH']\n",
      "<ipython-input-24-a0ab8ed0b8fa>:2: SettingWithCopyWarning: \n",
      "A value is trying to be set on a copy of a slice from a DataFrame.\n",
      "Try using .loc[row_indexer,col_indexer] = value instead\n",
      "\n",
      "See the caveats in the documentation: https://pandas.pydata.org/pandas-docs/stable/user_guide/indexing.html#returning-a-view-versus-a-copy\n",
      "  data['bldarea'] = data['BLDFRONT'] * data['BLDDEPTH']\n",
      "<ipython-input-24-a0ab8ed0b8fa>:3: SettingWithCopyWarning: \n",
      "A value is trying to be set on a copy of a slice from a DataFrame.\n",
      "Try using .loc[row_indexer,col_indexer] = value instead\n",
      "\n",
      "See the caveats in the documentation: https://pandas.pydata.org/pandas-docs/stable/user_guide/indexing.html#returning-a-view-versus-a-copy\n",
      "  data['bldvol'] = data['bldarea'] * data['STORIES']\n"
     ]
    }
   ],
   "source": [
    "data['lotarea']=data['LTFRONT'] * data['LTDEPTH']\n",
    "data['bldarea'] = data['BLDFRONT'] * data['BLDDEPTH']\n",
    "data['bldvol'] = data['bldarea'] * data['STORIES']"
   ]
  },
  {
   "cell_type": "code",
   "execution_count": 25,
   "metadata": {
    "ExecuteTime": {
     "end_time": "2021-02-05T23:20:46.970866Z",
     "start_time": "2021-02-05T23:20:46.906378Z"
    }
   },
   "outputs": [
    {
     "name": "stderr",
     "output_type": "stream",
     "text": [
      "<ipython-input-25-c893e7a3334f>:1: SettingWithCopyWarning: \n",
      "A value is trying to be set on a copy of a slice from a DataFrame.\n",
      "Try using .loc[row_indexer,col_indexer] = value instead\n",
      "\n",
      "See the caveats in the documentation: https://pandas.pydata.org/pandas-docs/stable/user_guide/indexing.html#returning-a-view-versus-a-copy\n",
      "  data['r1']=data['FULLVAL']/data['lotarea']\n",
      "<ipython-input-25-c893e7a3334f>:2: SettingWithCopyWarning: \n",
      "A value is trying to be set on a copy of a slice from a DataFrame.\n",
      "Try using .loc[row_indexer,col_indexer] = value instead\n",
      "\n",
      "See the caveats in the documentation: https://pandas.pydata.org/pandas-docs/stable/user_guide/indexing.html#returning-a-view-versus-a-copy\n",
      "  data['r2']=data['FULLVAL']/data['bldarea']\n",
      "<ipython-input-25-c893e7a3334f>:3: SettingWithCopyWarning: \n",
      "A value is trying to be set on a copy of a slice from a DataFrame.\n",
      "Try using .loc[row_indexer,col_indexer] = value instead\n",
      "\n",
      "See the caveats in the documentation: https://pandas.pydata.org/pandas-docs/stable/user_guide/indexing.html#returning-a-view-versus-a-copy\n",
      "  data['r3']=data['FULLVAL']/data['bldvol']\n",
      "<ipython-input-25-c893e7a3334f>:4: SettingWithCopyWarning: \n",
      "A value is trying to be set on a copy of a slice from a DataFrame.\n",
      "Try using .loc[row_indexer,col_indexer] = value instead\n",
      "\n",
      "See the caveats in the documentation: https://pandas.pydata.org/pandas-docs/stable/user_guide/indexing.html#returning-a-view-versus-a-copy\n",
      "  data['r4']=data['AVLAND']/data['lotarea']\n",
      "<ipython-input-25-c893e7a3334f>:5: SettingWithCopyWarning: \n",
      "A value is trying to be set on a copy of a slice from a DataFrame.\n",
      "Try using .loc[row_indexer,col_indexer] = value instead\n",
      "\n",
      "See the caveats in the documentation: https://pandas.pydata.org/pandas-docs/stable/user_guide/indexing.html#returning-a-view-versus-a-copy\n",
      "  data['r5']=data['AVLAND']/data['bldarea']\n",
      "<ipython-input-25-c893e7a3334f>:6: SettingWithCopyWarning: \n",
      "A value is trying to be set on a copy of a slice from a DataFrame.\n",
      "Try using .loc[row_indexer,col_indexer] = value instead\n",
      "\n",
      "See the caveats in the documentation: https://pandas.pydata.org/pandas-docs/stable/user_guide/indexing.html#returning-a-view-versus-a-copy\n",
      "  data['r6']=data['AVLAND']/data['bldvol']\n",
      "<ipython-input-25-c893e7a3334f>:7: SettingWithCopyWarning: \n",
      "A value is trying to be set on a copy of a slice from a DataFrame.\n",
      "Try using .loc[row_indexer,col_indexer] = value instead\n",
      "\n",
      "See the caveats in the documentation: https://pandas.pydata.org/pandas-docs/stable/user_guide/indexing.html#returning-a-view-versus-a-copy\n",
      "  data['r7']=data['AVTOT']/data['lotarea']\n",
      "<ipython-input-25-c893e7a3334f>:8: SettingWithCopyWarning: \n",
      "A value is trying to be set on a copy of a slice from a DataFrame.\n",
      "Try using .loc[row_indexer,col_indexer] = value instead\n",
      "\n",
      "See the caveats in the documentation: https://pandas.pydata.org/pandas-docs/stable/user_guide/indexing.html#returning-a-view-versus-a-copy\n",
      "  data['r8']=data['AVTOT']/data['bldarea']\n",
      "<ipython-input-25-c893e7a3334f>:9: SettingWithCopyWarning: \n",
      "A value is trying to be set on a copy of a slice from a DataFrame.\n",
      "Try using .loc[row_indexer,col_indexer] = value instead\n",
      "\n",
      "See the caveats in the documentation: https://pandas.pydata.org/pandas-docs/stable/user_guide/indexing.html#returning-a-view-versus-a-copy\n",
      "  data['r9']=data['AVTOT']/data['bldvol']\n"
     ]
    }
   ],
   "source": [
    "data['r1']=data['FULLVAL']/data['lotarea']\n",
    "data['r2']=data['FULLVAL']/data['bldarea']\n",
    "data['r3']=data['FULLVAL']/data['bldvol']\n",
    "data['r4']=data['AVLAND']/data['lotarea']\n",
    "data['r5']=data['AVLAND']/data['bldarea']\n",
    "data['r6']=data['AVLAND']/data['bldvol']\n",
    "data['r7']=data['AVTOT']/data['lotarea']\n",
    "data['r8']=data['AVTOT']/data['bldarea']\n",
    "data['r9']=data['AVTOT']/data['bldvol']"
   ]
  },
  {
   "cell_type": "code",
   "execution_count": 26,
   "metadata": {
    "ExecuteTime": {
     "end_time": "2021-02-05T23:20:48.714327Z",
     "start_time": "2021-02-05T23:20:46.972563Z"
    },
    "scrolled": false
   },
   "outputs": [],
   "source": [
    "ninevars=['r1','r2','r3','r4','r5','r6','r7','r8','r9']\n",
    "zip5_mean=data.groupby('ZIP')[ninevars].mean()\n",
    "zip3_mean=data.groupby('zip3')[ninevars].mean()\n",
    "taxclass_mean=data.groupby('TAXCLASS')[ninevars].mean()\n",
    "borough_mean=data.groupby('B')[ninevars].mean()\n",
    "data=data.join(zip5_mean, on='ZIP', rsuffix='_zip5')\n",
    "data=data.join(zip3_mean, on='zip3', rsuffix='_zip3')\n",
    "data=data.join(taxclass_mean, on='TAXCLASS', rsuffix='_taxclass')\n",
    "data=data.join(borough_mean, on='B', rsuffix='_boro')\n",
    "rsuffix=['_zip5', '_zip3', '_taxclass', '_boro']\n",
    "for var in ninevars:\n",
    "    for r in rsuffix:\n",
    "        data[str(var)+r]=data[var]/data[str(var)+r]\n"
   ]
  },
  {
   "cell_type": "markdown",
   "metadata": {},
   "source": [
    "### Get Variables Statistics"
   ]
  },
  {
   "cell_type": "code",
   "execution_count": 27,
   "metadata": {
    "ExecuteTime": {
     "end_time": "2021-02-05T23:20:49.699060Z",
     "start_time": "2021-02-05T23:20:48.716361Z"
    }
   },
   "outputs": [],
   "source": [
    "data=data.drop(columns=['RECORD','FULLVAL', 'AVLAND', 'AVTOT', 'ZIP', 'STORIES', \n",
    "          'LTFRONT', 'LTDEPTH', 'BLDFRONT', 'BLDDEPTH','TAXCLASS','B','lotarea','bldarea','bldvol'])\n"
   ]
  },
  {
   "cell_type": "code",
   "execution_count": 28,
   "metadata": {
    "ExecuteTime": {
     "end_time": "2021-02-05T23:20:51.230847Z",
     "start_time": "2021-02-05T23:20:49.701117Z"
    }
   },
   "outputs": [],
   "source": [
    "stats = data.describe().transpose()\n"
   ]
  },
  {
   "cell_type": "code",
   "execution_count": 29,
   "metadata": {
    "ExecuteTime": {
     "end_time": "2021-02-05T23:20:51.248307Z",
     "start_time": "2021-02-05T23:20:51.232402Z"
    }
   },
   "outputs": [
    {
     "data": {
      "text/html": [
       "<div>\n",
       "<style scoped>\n",
       "    .dataframe tbody tr th:only-of-type {\n",
       "        vertical-align: middle;\n",
       "    }\n",
       "\n",
       "    .dataframe tbody tr th {\n",
       "        vertical-align: top;\n",
       "    }\n",
       "\n",
       "    .dataframe thead th {\n",
       "        text-align: right;\n",
       "    }\n",
       "</style>\n",
       "<table border=\"1\" class=\"dataframe\">\n",
       "  <thead>\n",
       "    <tr style=\"text-align: right;\">\n",
       "      <th></th>\n",
       "      <th>count</th>\n",
       "      <th>mean</th>\n",
       "      <th>std</th>\n",
       "      <th>min</th>\n",
       "      <th>25%</th>\n",
       "      <th>50%</th>\n",
       "      <th>75%</th>\n",
       "      <th>max</th>\n",
       "    </tr>\n",
       "  </thead>\n",
       "  <tbody>\n",
       "    <tr>\n",
       "      <th>r1</th>\n",
       "      <td>1070994.0</td>\n",
       "      <td>215.227811</td>\n",
       "      <td>1439.696352</td>\n",
       "      <td>3.194961e-04</td>\n",
       "      <td>71.158441</td>\n",
       "      <td>150.450741</td>\n",
       "      <td>241.052632</td>\n",
       "      <td>8.360000e+05</td>\n",
       "    </tr>\n",
       "    <tr>\n",
       "      <th>r2</th>\n",
       "      <td>1070994.0</td>\n",
       "      <td>576.042588</td>\n",
       "      <td>7757.850911</td>\n",
       "      <td>7.073253e-04</td>\n",
       "      <td>170.538697</td>\n",
       "      <td>493.333333</td>\n",
       "      <td>680.357143</td>\n",
       "      <td>3.712000e+06</td>\n",
       "    </tr>\n",
       "    <tr>\n",
       "      <th>r3</th>\n",
       "      <td>1070994.0</td>\n",
       "      <td>262.312367</td>\n",
       "      <td>3756.499376</td>\n",
       "      <td>8.608601e-05</td>\n",
       "      <td>68.846382</td>\n",
       "      <td>234.920635</td>\n",
       "      <td>333.088235</td>\n",
       "      <td>2.930000e+06</td>\n",
       "    </tr>\n",
       "    <tr>\n",
       "      <th>r4</th>\n",
       "      <td>1070994.0</td>\n",
       "      <td>11.340857</td>\n",
       "      <td>211.172764</td>\n",
       "      <td>8.333333e-06</td>\n",
       "      <td>2.238848</td>\n",
       "      <td>4.559750</td>\n",
       "      <td>7.227727</td>\n",
       "      <td>1.540706e+05</td>\n",
       "    </tr>\n",
       "    <tr>\n",
       "      <th>r5</th>\n",
       "      <td>1070994.0</td>\n",
       "      <td>33.937441</td>\n",
       "      <td>2424.133718</td>\n",
       "      <td>2.008674e-04</td>\n",
       "      <td>5.607847</td>\n",
       "      <td>14.880000</td>\n",
       "      <td>20.294118</td>\n",
       "      <td>1.549530e+06</td>\n",
       "    </tr>\n",
       "    <tr>\n",
       "      <th>r6</th>\n",
       "      <td>1070994.0</td>\n",
       "      <td>15.905199</td>\n",
       "      <td>1438.070411</td>\n",
       "      <td>1.038033e-05</td>\n",
       "      <td>1.736443</td>\n",
       "      <td>7.083636</td>\n",
       "      <td>10.033889</td>\n",
       "      <td>1.318500e+06</td>\n",
       "    </tr>\n",
       "    <tr>\n",
       "      <th>r7</th>\n",
       "      <td>1070994.0</td>\n",
       "      <td>27.814596</td>\n",
       "      <td>373.301028</td>\n",
       "      <td>8.333333e-06</td>\n",
       "      <td>5.137000</td>\n",
       "      <td>8.493884</td>\n",
       "      <td>13.501270</td>\n",
       "      <td>2.481176e+05</td>\n",
       "    </tr>\n",
       "    <tr>\n",
       "      <th>r8</th>\n",
       "      <td>1070994.0</td>\n",
       "      <td>64.160446</td>\n",
       "      <td>3066.846869</td>\n",
       "      <td>3.062474e-04</td>\n",
       "      <td>16.719696</td>\n",
       "      <td>26.816872</td>\n",
       "      <td>36.020000</td>\n",
       "      <td>1.670400e+06</td>\n",
       "    </tr>\n",
       "    <tr>\n",
       "      <th>r9</th>\n",
       "      <td>1070994.0</td>\n",
       "      <td>25.553496</td>\n",
       "      <td>1487.747786</td>\n",
       "      <td>6.049251e-05</td>\n",
       "      <td>6.573992</td>\n",
       "      <td>12.589451</td>\n",
       "      <td>17.569887</td>\n",
       "      <td>1.318500e+06</td>\n",
       "    </tr>\n",
       "    <tr>\n",
       "      <th>r1_zip5</th>\n",
       "      <td>1070994.0</td>\n",
       "      <td>1.000000</td>\n",
       "      <td>6.042822</td>\n",
       "      <td>1.871600e-06</td>\n",
       "      <td>0.411598</td>\n",
       "      <td>0.885400</td>\n",
       "      <td>1.210841</td>\n",
       "      <td>2.680806e+03</td>\n",
       "    </tr>\n",
       "    <tr>\n",
       "      <th>r2_zip5</th>\n",
       "      <td>1070994.0</td>\n",
       "      <td>1.000000</td>\n",
       "      <td>7.945081</td>\n",
       "      <td>1.239030e-06</td>\n",
       "      <td>0.337147</td>\n",
       "      <td>0.892887</td>\n",
       "      <td>1.200805</td>\n",
       "      <td>3.561425e+03</td>\n",
       "    </tr>\n",
       "    <tr>\n",
       "      <th>r3_zip5</th>\n",
       "      <td>1070994.0</td>\n",
       "      <td>1.000000</td>\n",
       "      <td>9.777373</td>\n",
       "      <td>3.620324e-07</td>\n",
       "      <td>0.305314</td>\n",
       "      <td>0.854797</td>\n",
       "      <td>1.175098</td>\n",
       "      <td>5.457465e+03</td>\n",
       "    </tr>\n",
       "    <tr>\n",
       "      <th>r4_zip5</th>\n",
       "      <td>1070994.0</td>\n",
       "      <td>1.000000</td>\n",
       "      <td>12.614901</td>\n",
       "      <td>1.541916e-06</td>\n",
       "      <td>0.218068</td>\n",
       "      <td>0.685771</td>\n",
       "      <td>1.022859</td>\n",
       "      <td>7.922451e+03</td>\n",
       "    </tr>\n",
       "    <tr>\n",
       "      <th>r5_zip5</th>\n",
       "      <td>1070994.0</td>\n",
       "      <td>1.000000</td>\n",
       "      <td>19.079267</td>\n",
       "      <td>1.136532e-06</td>\n",
       "      <td>0.184199</td>\n",
       "      <td>0.629755</td>\n",
       "      <td>0.920761</td>\n",
       "      <td>8.728888e+03</td>\n",
       "    </tr>\n",
       "    <tr>\n",
       "      <th>r6_zip5</th>\n",
       "      <td>1070994.0</td>\n",
       "      <td>1.000000</td>\n",
       "      <td>21.327947</td>\n",
       "      <td>2.723796e-07</td>\n",
       "      <td>0.125895</td>\n",
       "      <td>0.546050</td>\n",
       "      <td>0.838770</td>\n",
       "      <td>9.303677e+03</td>\n",
       "    </tr>\n",
       "    <tr>\n",
       "      <th>r7_zip5</th>\n",
       "      <td>1070994.0</td>\n",
       "      <td>1.000000</td>\n",
       "      <td>10.294483</td>\n",
       "      <td>7.879156e-07</td>\n",
       "      <td>0.244674</td>\n",
       "      <td>0.593641</td>\n",
       "      <td>0.908663</td>\n",
       "      <td>5.724816e+03</td>\n",
       "    </tr>\n",
       "    <tr>\n",
       "      <th>r8_zip5</th>\n",
       "      <td>1070994.0</td>\n",
       "      <td>1.000000</td>\n",
       "      <td>15.882294</td>\n",
       "      <td>6.110379e-06</td>\n",
       "      <td>0.290923</td>\n",
       "      <td>0.628447</td>\n",
       "      <td>0.886012</td>\n",
       "      <td>7.615142e+03</td>\n",
       "    </tr>\n",
       "    <tr>\n",
       "      <th>r9_zip5</th>\n",
       "      <td>1070994.0</td>\n",
       "      <td>1.000000</td>\n",
       "      <td>17.434280</td>\n",
       "      <td>1.090399e-06</td>\n",
       "      <td>0.264646</td>\n",
       "      <td>0.583991</td>\n",
       "      <td>0.836727</td>\n",
       "      <td>8.740797e+03</td>\n",
       "    </tr>\n",
       "    <tr>\n",
       "      <th>r1_zip3</th>\n",
       "      <td>1070994.0</td>\n",
       "      <td>1.000000</td>\n",
       "      <td>8.508621</td>\n",
       "      <td>1.623575e-06</td>\n",
       "      <td>0.390733</td>\n",
       "      <td>0.831869</td>\n",
       "      <td>1.208521</td>\n",
       "      <td>5.190151e+03</td>\n",
       "    </tr>\n",
       "    <tr>\n",
       "      <th>r2_zip3</th>\n",
       "      <td>1070994.0</td>\n",
       "      <td>1.000000</td>\n",
       "      <td>11.394821</td>\n",
       "      <td>1.121114e-06</td>\n",
       "      <td>0.310912</td>\n",
       "      <td>0.868234</td>\n",
       "      <td>1.177579</td>\n",
       "      <td>4.644064e+03</td>\n",
       "    </tr>\n",
       "    <tr>\n",
       "      <th>r3_zip3</th>\n",
       "      <td>1070994.0</td>\n",
       "      <td>1.000000</td>\n",
       "      <td>14.318435</td>\n",
       "      <td>2.579796e-07</td>\n",
       "      <td>0.278485</td>\n",
       "      <td>0.852413</td>\n",
       "      <td>1.181561</td>\n",
       "      <td>8.780523e+03</td>\n",
       "    </tr>\n",
       "    <tr>\n",
       "      <th>r4_zip3</th>\n",
       "      <td>1070994.0</td>\n",
       "      <td>1.000000</td>\n",
       "      <td>27.282935</td>\n",
       "      <td>7.661991e-07</td>\n",
       "      <td>0.222920</td>\n",
       "      <td>0.608316</td>\n",
       "      <td>0.951114</td>\n",
       "      <td>1.992260e+04</td>\n",
       "    </tr>\n",
       "    <tr>\n",
       "      <th>r5_zip3</th>\n",
       "      <td>1070994.0</td>\n",
       "      <td>1.000000</td>\n",
       "      <td>49.160495</td>\n",
       "      <td>3.041699e-06</td>\n",
       "      <td>0.168321</td>\n",
       "      <td>0.535149</td>\n",
       "      <td>0.760892</td>\n",
       "      <td>3.695966e+04</td>\n",
       "    </tr>\n",
       "    <tr>\n",
       "      <th>r6_zip3</th>\n",
       "      <td>1070994.0</td>\n",
       "      <td>1.000000</td>\n",
       "      <td>63.178206</td>\n",
       "      <td>4.355574e-07</td>\n",
       "      <td>0.124181</td>\n",
       "      <td>0.467540</td>\n",
       "      <td>0.707322</td>\n",
       "      <td>5.498325e+04</td>\n",
       "    </tr>\n",
       "    <tr>\n",
       "      <th>r7_zip3</th>\n",
       "      <td>1070994.0</td>\n",
       "      <td>1.000000</td>\n",
       "      <td>23.807499</td>\n",
       "      <td>3.513719e-07</td>\n",
       "      <td>0.234280</td>\n",
       "      <td>0.495048</td>\n",
       "      <td>0.765032</td>\n",
       "      <td>2.132834e+04</td>\n",
       "    </tr>\n",
       "    <tr>\n",
       "      <th>r8_zip3</th>\n",
       "      <td>1070994.0</td>\n",
       "      <td>1.000000</td>\n",
       "      <td>36.135656</td>\n",
       "      <td>6.739341e-06</td>\n",
       "      <td>0.284683</td>\n",
       "      <td>0.553030</td>\n",
       "      <td>0.740974</td>\n",
       "      <td>2.350514e+04</td>\n",
       "    </tr>\n",
       "    <tr>\n",
       "      <th>r9_zip3</th>\n",
       "      <td>1070994.0</td>\n",
       "      <td>1.000000</td>\n",
       "      <td>45.773728</td>\n",
       "      <td>1.674390e-06</td>\n",
       "      <td>0.281808</td>\n",
       "      <td>0.525286</td>\n",
       "      <td>0.741346</td>\n",
       "      <td>3.910869e+04</td>\n",
       "    </tr>\n",
       "    <tr>\n",
       "      <th>r1_taxclass</th>\n",
       "      <td>1070994.0</td>\n",
       "      <td>1.000000</td>\n",
       "      <td>7.672998</td>\n",
       "      <td>1.172697e-06</td>\n",
       "      <td>0.348529</td>\n",
       "      <td>0.653600</td>\n",
       "      <td>1.042978</td>\n",
       "      <td>3.779498e+03</td>\n",
       "    </tr>\n",
       "    <tr>\n",
       "      <th>r2_taxclass</th>\n",
       "      <td>1070994.0</td>\n",
       "      <td>1.000000</td>\n",
       "      <td>24.397313</td>\n",
       "      <td>1.110019e-06</td>\n",
       "      <td>0.416116</td>\n",
       "      <td>0.737598</td>\n",
       "      <td>1.000839</td>\n",
       "      <td>2.067512e+04</td>\n",
       "    </tr>\n",
       "    <tr>\n",
       "      <th>r3_taxclass</th>\n",
       "      <td>1070994.0</td>\n",
       "      <td>1.000000</td>\n",
       "      <td>81.241899</td>\n",
       "      <td>5.012610e-07</td>\n",
       "      <td>0.400788</td>\n",
       "      <td>0.748602</td>\n",
       "      <td>1.032646</td>\n",
       "      <td>8.343109e+04</td>\n",
       "    </tr>\n",
       "    <tr>\n",
       "      <th>r4_taxclass</th>\n",
       "      <td>1070994.0</td>\n",
       "      <td>1.000000</td>\n",
       "      <td>9.385878</td>\n",
       "      <td>2.468698e-06</td>\n",
       "      <td>0.278288</td>\n",
       "      <td>0.686443</td>\n",
       "      <td>1.081656</td>\n",
       "      <td>4.978297e+03</td>\n",
       "    </tr>\n",
       "    <tr>\n",
       "      <th>r5_taxclass</th>\n",
       "      <td>1070994.0</td>\n",
       "      <td>1.000000</td>\n",
       "      <td>60.477958</td>\n",
       "      <td>4.116049e-06</td>\n",
       "      <td>0.209866</td>\n",
       "      <td>0.765652</td>\n",
       "      <td>1.055378</td>\n",
       "      <td>5.991245e+04</td>\n",
       "    </tr>\n",
       "    <tr>\n",
       "      <th>r6_taxclass</th>\n",
       "      <td>1070994.0</td>\n",
       "      <td>1.000000</td>\n",
       "      <td>136.962701</td>\n",
       "      <td>3.260026e-07</td>\n",
       "      <td>0.160911</td>\n",
       "      <td>0.747639</td>\n",
       "      <td>1.061534</td>\n",
       "      <td>1.412996e+05</td>\n",
       "    </tr>\n",
       "    <tr>\n",
       "      <th>r7_taxclass</th>\n",
       "      <td>1070994.0</td>\n",
       "      <td>1.000000</td>\n",
       "      <td>8.926070</td>\n",
       "      <td>1.643862e-06</td>\n",
       "      <td>0.343441</td>\n",
       "      <td>0.706278</td>\n",
       "      <td>1.094228</td>\n",
       "      <td>5.152461e+03</td>\n",
       "    </tr>\n",
       "    <tr>\n",
       "      <th>r8_taxclass</th>\n",
       "      <td>1070994.0</td>\n",
       "      <td>1.000000</td>\n",
       "      <td>24.862129</td>\n",
       "      <td>6.006013e-06</td>\n",
       "      <td>0.361459</td>\n",
       "      <td>0.784687</td>\n",
       "      <td>1.053493</td>\n",
       "      <td>2.067499e+04</td>\n",
       "    </tr>\n",
       "    <tr>\n",
       "      <th>r9_taxclass</th>\n",
       "      <td>1070994.0</td>\n",
       "      <td>1.000000</td>\n",
       "      <td>81.331475</td>\n",
       "      <td>2.724933e-06</td>\n",
       "      <td>0.346665</td>\n",
       "      <td>0.776760</td>\n",
       "      <td>1.064288</td>\n",
       "      <td>8.343061e+04</td>\n",
       "    </tr>\n",
       "    <tr>\n",
       "      <th>r1_boro</th>\n",
       "      <td>1070994.0</td>\n",
       "      <td>1.000000</td>\n",
       "      <td>8.418100</td>\n",
       "      <td>1.845598e-06</td>\n",
       "      <td>0.381436</td>\n",
       "      <td>0.811033</td>\n",
       "      <td>1.213201</td>\n",
       "      <td>5.190151e+03</td>\n",
       "    </tr>\n",
       "    <tr>\n",
       "      <th>r2_boro</th>\n",
       "      <td>1070994.0</td>\n",
       "      <td>1.000000</td>\n",
       "      <td>12.667098</td>\n",
       "      <td>1.103987e-06</td>\n",
       "      <td>0.312158</td>\n",
       "      <td>0.863179</td>\n",
       "      <td>1.172823</td>\n",
       "      <td>5.793657e+03</td>\n",
       "    </tr>\n",
       "    <tr>\n",
       "      <th>r3_boro</th>\n",
       "      <td>1070994.0</td>\n",
       "      <td>1.000000</td>\n",
       "      <td>14.770325</td>\n",
       "      <td>2.713139e-07</td>\n",
       "      <td>0.277512</td>\n",
       "      <td>0.843533</td>\n",
       "      <td>1.186737</td>\n",
       "      <td>9.234366e+03</td>\n",
       "    </tr>\n",
       "    <tr>\n",
       "      <th>r4_boro</th>\n",
       "      <td>1070994.0</td>\n",
       "      <td>1.000000</td>\n",
       "      <td>26.089650</td>\n",
       "      <td>7.661991e-07</td>\n",
       "      <td>0.216735</td>\n",
       "      <td>0.593147</td>\n",
       "      <td>0.955428</td>\n",
       "      <td>1.992446e+04</td>\n",
       "    </tr>\n",
       "    <tr>\n",
       "      <th>r5_boro</th>\n",
       "      <td>1070994.0</td>\n",
       "      <td>1.000000</td>\n",
       "      <td>62.320792</td>\n",
       "      <td>3.161191e-06</td>\n",
       "      <td>0.195335</td>\n",
       "      <td>0.475740</td>\n",
       "      <td>0.723881</td>\n",
       "      <td>3.889946e+04</td>\n",
       "    </tr>\n",
       "    <tr>\n",
       "      <th>r6_boro</th>\n",
       "      <td>1070994.0</td>\n",
       "      <td>1.000000</td>\n",
       "      <td>73.088194</td>\n",
       "      <td>4.594072e-07</td>\n",
       "      <td>0.122776</td>\n",
       "      <td>0.449032</td>\n",
       "      <td>0.693438</td>\n",
       "      <td>6.658038e+04</td>\n",
       "    </tr>\n",
       "    <tr>\n",
       "      <th>r7_boro</th>\n",
       "      <td>1070994.0</td>\n",
       "      <td>1.000000</td>\n",
       "      <td>20.428474</td>\n",
       "      <td>3.513719e-07</td>\n",
       "      <td>0.228465</td>\n",
       "      <td>0.477546</td>\n",
       "      <td>0.762747</td>\n",
       "      <td>1.722203e+04</td>\n",
       "    </tr>\n",
       "    <tr>\n",
       "      <th>r8_boro</th>\n",
       "      <td>1070994.0</td>\n",
       "      <td>1.000000</td>\n",
       "      <td>47.499505</td>\n",
       "      <td>6.929921e-06</td>\n",
       "      <td>0.291132</td>\n",
       "      <td>0.504276</td>\n",
       "      <td>0.713035</td>\n",
       "      <td>2.566650e+04</td>\n",
       "    </tr>\n",
       "    <tr>\n",
       "      <th>r9_boro</th>\n",
       "      <td>1070994.0</td>\n",
       "      <td>1.000000</td>\n",
       "      <td>49.374042</td>\n",
       "      <td>1.754849e-06</td>\n",
       "      <td>0.282951</td>\n",
       "      <td>0.509190</td>\n",
       "      <td>0.740169</td>\n",
       "      <td>4.373387e+04</td>\n",
       "    </tr>\n",
       "  </tbody>\n",
       "</table>\n",
       "</div>"
      ],
      "text/plain": [
       "                 count        mean          std           min         25%  \\\n",
       "r1           1070994.0  215.227811  1439.696352  3.194961e-04   71.158441   \n",
       "r2           1070994.0  576.042588  7757.850911  7.073253e-04  170.538697   \n",
       "r3           1070994.0  262.312367  3756.499376  8.608601e-05   68.846382   \n",
       "r4           1070994.0   11.340857   211.172764  8.333333e-06    2.238848   \n",
       "r5           1070994.0   33.937441  2424.133718  2.008674e-04    5.607847   \n",
       "r6           1070994.0   15.905199  1438.070411  1.038033e-05    1.736443   \n",
       "r7           1070994.0   27.814596   373.301028  8.333333e-06    5.137000   \n",
       "r8           1070994.0   64.160446  3066.846869  3.062474e-04   16.719696   \n",
       "r9           1070994.0   25.553496  1487.747786  6.049251e-05    6.573992   \n",
       "r1_zip5      1070994.0    1.000000     6.042822  1.871600e-06    0.411598   \n",
       "r2_zip5      1070994.0    1.000000     7.945081  1.239030e-06    0.337147   \n",
       "r3_zip5      1070994.0    1.000000     9.777373  3.620324e-07    0.305314   \n",
       "r4_zip5      1070994.0    1.000000    12.614901  1.541916e-06    0.218068   \n",
       "r5_zip5      1070994.0    1.000000    19.079267  1.136532e-06    0.184199   \n",
       "r6_zip5      1070994.0    1.000000    21.327947  2.723796e-07    0.125895   \n",
       "r7_zip5      1070994.0    1.000000    10.294483  7.879156e-07    0.244674   \n",
       "r8_zip5      1070994.0    1.000000    15.882294  6.110379e-06    0.290923   \n",
       "r9_zip5      1070994.0    1.000000    17.434280  1.090399e-06    0.264646   \n",
       "r1_zip3      1070994.0    1.000000     8.508621  1.623575e-06    0.390733   \n",
       "r2_zip3      1070994.0    1.000000    11.394821  1.121114e-06    0.310912   \n",
       "r3_zip3      1070994.0    1.000000    14.318435  2.579796e-07    0.278485   \n",
       "r4_zip3      1070994.0    1.000000    27.282935  7.661991e-07    0.222920   \n",
       "r5_zip3      1070994.0    1.000000    49.160495  3.041699e-06    0.168321   \n",
       "r6_zip3      1070994.0    1.000000    63.178206  4.355574e-07    0.124181   \n",
       "r7_zip3      1070994.0    1.000000    23.807499  3.513719e-07    0.234280   \n",
       "r8_zip3      1070994.0    1.000000    36.135656  6.739341e-06    0.284683   \n",
       "r9_zip3      1070994.0    1.000000    45.773728  1.674390e-06    0.281808   \n",
       "r1_taxclass  1070994.0    1.000000     7.672998  1.172697e-06    0.348529   \n",
       "r2_taxclass  1070994.0    1.000000    24.397313  1.110019e-06    0.416116   \n",
       "r3_taxclass  1070994.0    1.000000    81.241899  5.012610e-07    0.400788   \n",
       "r4_taxclass  1070994.0    1.000000     9.385878  2.468698e-06    0.278288   \n",
       "r5_taxclass  1070994.0    1.000000    60.477958  4.116049e-06    0.209866   \n",
       "r6_taxclass  1070994.0    1.000000   136.962701  3.260026e-07    0.160911   \n",
       "r7_taxclass  1070994.0    1.000000     8.926070  1.643862e-06    0.343441   \n",
       "r8_taxclass  1070994.0    1.000000    24.862129  6.006013e-06    0.361459   \n",
       "r9_taxclass  1070994.0    1.000000    81.331475  2.724933e-06    0.346665   \n",
       "r1_boro      1070994.0    1.000000     8.418100  1.845598e-06    0.381436   \n",
       "r2_boro      1070994.0    1.000000    12.667098  1.103987e-06    0.312158   \n",
       "r3_boro      1070994.0    1.000000    14.770325  2.713139e-07    0.277512   \n",
       "r4_boro      1070994.0    1.000000    26.089650  7.661991e-07    0.216735   \n",
       "r5_boro      1070994.0    1.000000    62.320792  3.161191e-06    0.195335   \n",
       "r6_boro      1070994.0    1.000000    73.088194  4.594072e-07    0.122776   \n",
       "r7_boro      1070994.0    1.000000    20.428474  3.513719e-07    0.228465   \n",
       "r8_boro      1070994.0    1.000000    47.499505  6.929921e-06    0.291132   \n",
       "r9_boro      1070994.0    1.000000    49.374042  1.754849e-06    0.282951   \n",
       "\n",
       "                    50%         75%           max  \n",
       "r1           150.450741  241.052632  8.360000e+05  \n",
       "r2           493.333333  680.357143  3.712000e+06  \n",
       "r3           234.920635  333.088235  2.930000e+06  \n",
       "r4             4.559750    7.227727  1.540706e+05  \n",
       "r5            14.880000   20.294118  1.549530e+06  \n",
       "r6             7.083636   10.033889  1.318500e+06  \n",
       "r7             8.493884   13.501270  2.481176e+05  \n",
       "r8            26.816872   36.020000  1.670400e+06  \n",
       "r9            12.589451   17.569887  1.318500e+06  \n",
       "r1_zip5        0.885400    1.210841  2.680806e+03  \n",
       "r2_zip5        0.892887    1.200805  3.561425e+03  \n",
       "r3_zip5        0.854797    1.175098  5.457465e+03  \n",
       "r4_zip5        0.685771    1.022859  7.922451e+03  \n",
       "r5_zip5        0.629755    0.920761  8.728888e+03  \n",
       "r6_zip5        0.546050    0.838770  9.303677e+03  \n",
       "r7_zip5        0.593641    0.908663  5.724816e+03  \n",
       "r8_zip5        0.628447    0.886012  7.615142e+03  \n",
       "r9_zip5        0.583991    0.836727  8.740797e+03  \n",
       "r1_zip3        0.831869    1.208521  5.190151e+03  \n",
       "r2_zip3        0.868234    1.177579  4.644064e+03  \n",
       "r3_zip3        0.852413    1.181561  8.780523e+03  \n",
       "r4_zip3        0.608316    0.951114  1.992260e+04  \n",
       "r5_zip3        0.535149    0.760892  3.695966e+04  \n",
       "r6_zip3        0.467540    0.707322  5.498325e+04  \n",
       "r7_zip3        0.495048    0.765032  2.132834e+04  \n",
       "r8_zip3        0.553030    0.740974  2.350514e+04  \n",
       "r9_zip3        0.525286    0.741346  3.910869e+04  \n",
       "r1_taxclass    0.653600    1.042978  3.779498e+03  \n",
       "r2_taxclass    0.737598    1.000839  2.067512e+04  \n",
       "r3_taxclass    0.748602    1.032646  8.343109e+04  \n",
       "r4_taxclass    0.686443    1.081656  4.978297e+03  \n",
       "r5_taxclass    0.765652    1.055378  5.991245e+04  \n",
       "r6_taxclass    0.747639    1.061534  1.412996e+05  \n",
       "r7_taxclass    0.706278    1.094228  5.152461e+03  \n",
       "r8_taxclass    0.784687    1.053493  2.067499e+04  \n",
       "r9_taxclass    0.776760    1.064288  8.343061e+04  \n",
       "r1_boro        0.811033    1.213201  5.190151e+03  \n",
       "r2_boro        0.863179    1.172823  5.793657e+03  \n",
       "r3_boro        0.843533    1.186737  9.234366e+03  \n",
       "r4_boro        0.593147    0.955428  1.992446e+04  \n",
       "r5_boro        0.475740    0.723881  3.889946e+04  \n",
       "r6_boro        0.449032    0.693438  6.658038e+04  \n",
       "r7_boro        0.477546    0.762747  1.722203e+04  \n",
       "r8_boro        0.504276    0.713035  2.566650e+04  \n",
       "r9_boro        0.509190    0.740169  4.373387e+04  "
      ]
     },
     "execution_count": 29,
     "metadata": {},
     "output_type": "execute_result"
    }
   ],
   "source": [
    "stats"
   ]
  },
  {
   "cell_type": "code",
   "execution_count": null,
   "metadata": {},
   "outputs": [],
   "source": []
  }
 ],
 "metadata": {
  "kernelspec": {
   "display_name": "Python 3",
   "language": "python",
   "name": "python3"
  },
  "language_info": {
   "codemirror_mode": {
    "name": "ipython",
    "version": 3
   },
   "file_extension": ".py",
   "mimetype": "text/x-python",
   "name": "python",
   "nbconvert_exporter": "python",
   "pygments_lexer": "ipython3",
   "version": "3.8.3"
  },
  "varInspector": {
   "cols": {
    "lenName": 16,
    "lenType": 16,
    "lenVar": 40
   },
   "kernels_config": {
    "python": {
     "delete_cmd_postfix": "",
     "delete_cmd_prefix": "del ",
     "library": "var_list.py",
     "varRefreshCmd": "print(var_dic_list())"
    },
    "r": {
     "delete_cmd_postfix": ") ",
     "delete_cmd_prefix": "rm(",
     "library": "var_list.r",
     "varRefreshCmd": "cat(var_dic_list()) "
    }
   },
   "types_to_exclude": [
    "module",
    "function",
    "builtin_function_or_method",
    "instance",
    "_Feature"
   ],
   "window_display": false
  }
 },
 "nbformat": 4,
 "nbformat_minor": 4
}
